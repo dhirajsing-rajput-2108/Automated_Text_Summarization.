{
  "cells": [
    {
      "cell_type": "markdown",
      "metadata": {
        "id": "I560tgsFy2TU"
      },
      "source": [
        "**Importing Libraried and dataset**"
      ]
    },
    {
      "cell_type": "code",
      "execution_count": null,
      "metadata": {
        "id": "-c3KcUrbwShf"
      },
      "outputs": [],
      "source": [
        "text = \"\"\"First of all I would like to say good morning to the respected teachers, parents and my dear friends. I would like to speech on the importance of education which is must to know by all of us. Education plays a great role in the life of everyone all through the life.\n",
        "\n",
        "Getting proper education is very necessary to get success and happy life just like food is necessary for healthy body. It is very important to live luxurious and better life. It develops personality of the people, provides physical and mental standard and transforms people’s living status.\n",
        "\n",
        "It promotes the feeling of physical, mental and social well being by providing better life. Good education is constructive in nature which constructs our future forever. It helps a person to improve his/her status of mind, body and spirit. It provides us lots of confidence by giving us bulk of knowledge in many field. It is a single and vital way to the success as well as personal growth.\n",
        "\n",
        "The more knowledge we get, we grow and develop more in the life. Being well educated never only means to earn certificates and good salary from the recognized and reputed organisation companies or institutions however it also means to be a good and social person in the life. It helps us to determine whether something is good or bad for us and other persons related to us.\n",
        "\n",
        "The first purpose of getting good education is being good citizen and then being successful in personal and professional life. We are incomplete without a good education because education makes us right thinker and correct decision maker. In such a competitive world, education has become a necessity for human beings after food, clothe and shelter. It is able to provide solutions to all problems; it promotes good habits and awareness about corruption, terrorism, and other social issues among us. A comprehensive speech on corruption will not only provide you with insights into the issue itself but also serve as a valuable resource to gain an understanding of related speeches and discussions surrounding the topic of corruption.\n",
        "\n",
        "Education is the most important tool offers inner and outer strength to a person. Education is the fundamental rights of everyone and capable of bringing any desired change and upliftment in the human mind and society.\n",
        "\n",
        "Thank You\"\"\""
      ]
    },
    {
      "cell_type": "code",
      "execution_count": null,
      "metadata": {
        "colab": {
          "base_uri": "https://localhost:8080/"
        },
        "id": "UI4F6RpdxBNX",
        "outputId": "8ab245e1-222b-4acb-c142-1401e3157b80"
      },
      "outputs": [
        {
          "data": {
            "text/plain": [
              "2293"
            ]
          },
          "execution_count": 2,
          "metadata": {},
          "output_type": "execute_result"
        }
      ],
      "source": [
        "len(text)"
      ]
    },
    {
      "cell_type": "code",
      "execution_count": null,
      "metadata": {
        "id": "X2AfJNJBrkEL"
      },
      "outputs": [],
      "source": [
        "import spacy\n",
        "from spacy.lang.en.stop_words import STOP_WORDS\n",
        "from string import punctuation"
      ]
    },
    {
      "cell_type": "code",
      "execution_count": null,
      "metadata": {
        "id": "MiAuUO0OwPPM"
      },
      "outputs": [],
      "source": [
        "nlp=spacy.load(\"en_core_web_sm\")"
      ]
    },
    {
      "cell_type": "code",
      "execution_count": null,
      "metadata": {
        "id": "0i9w9myCwoUP"
      },
      "outputs": [],
      "source": [
        "doc = nlp(text)"
      ]
    },
    {
      "cell_type": "code",
      "execution_count": null,
      "metadata": {
        "id": "e1gUSCGrwrYo"
      },
      "outputs": [],
      "source": [
        "tokens = [token.text for token in doc]"
      ]
    },
    {
      "cell_type": "code",
      "execution_count": null,
      "metadata": {
        "colab": {
          "base_uri": "https://localhost:8080/"
        },
        "id": "l2iiTp8iw5jp",
        "outputId": "1e055003-f3c8-42b6-e44c-b4d8ba34779d"
      },
      "outputs": [
        {
          "name": "stdout",
          "output_type": "stream",
          "text": [
            "['First', 'of', 'all', 'I', 'would', 'like', 'to', 'say', 'good', 'morning', 'to', 'the', 'respected', 'teachers', ',', 'parents', 'and', 'my', 'dear', 'friends', '.', 'I', 'would', 'like', 'to', 'speech', 'on', 'the', 'importance', 'of', 'education', 'which', 'is', 'must', 'to', 'know', 'by', 'all', 'of', 'us', '.', 'Education', 'plays', 'a', 'great', 'role', 'in', 'the', 'life', 'of', 'everyone', 'all', 'through', 'the', 'life', '.', '\\n\\n', 'Getting', 'proper', 'education', 'is', 'very', 'necessary', 'to', 'get', 'success', 'and', 'happy', 'life', 'just', 'like', 'food', 'is', 'necessary', 'for', 'healthy', 'body', '.', 'It', 'is', 'very', 'important', 'to', 'live', 'luxurious', 'and', 'better', 'life', '.', 'It', 'develops', 'personality', 'of', 'the', 'people', ',', 'provides', 'physical', 'and', 'mental', 'standard', 'and', 'transforms', 'people', '’s', 'living', 'status', '.', '\\n\\n', 'It', 'promotes', 'the', 'feeling', 'of', 'physical', ',', 'mental', 'and', 'social', 'well', 'being', 'by', 'providing', 'better', 'life', '.', 'Good', 'education', 'is', 'constructive', 'in', 'nature', 'which', 'constructs', 'our', 'future', 'forever', '.', 'It', 'helps', 'a', 'person', 'to', 'improve', 'his', '/', 'her', 'status', 'of', 'mind', ',', 'body', 'and', 'spirit', '.', 'It', 'provides', 'us', 'lots', 'of', 'confidence', 'by', 'giving', 'us', 'bulk', 'of', 'knowledge', 'in', 'many', 'field', '.', 'It', 'is', 'a', 'single', 'and', 'vital', 'way', 'to', 'the', 'success', 'as', 'well', 'as', 'personal', 'growth', '.', '\\n\\n', 'The', 'more', 'knowledge', 'we', 'get', ',', 'we', 'grow', 'and', 'develop', 'more', 'in', 'the', 'life', '.', 'Being', 'well', 'educated', 'never', 'only', 'means', 'to', 'earn', 'certificates', 'and', 'good', 'salary', 'from', 'the', 'recognized', 'and', 'reputed', 'organisation', 'companies', 'or', 'institutions', 'however', 'it', 'also', 'means', 'to', 'be', 'a', 'good', 'and', 'social', 'person', 'in', 'the', 'life', '.', 'It', 'helps', 'us', 'to', 'determine', 'whether', 'something', 'is', 'good', 'or', 'bad', 'for', 'us', 'and', 'other', 'persons', 'related', 'to', 'us', '.', '\\n\\n', 'The', 'first', 'purpose', 'of', 'getting', 'good', 'education', 'is', 'being', 'good', 'citizen', 'and', 'then', 'being', 'successful', 'in', 'personal', 'and', 'professional', 'life', '.', 'We', 'are', 'incomplete', 'without', 'a', 'good', 'education', 'because', 'education', 'makes', 'us', 'right', 'thinker', 'and', 'correct', 'decision', 'maker', '.', 'In', 'such', 'a', 'competitive', 'world', ',', 'education', 'has', 'become', 'a', 'necessity', 'for', 'human', 'beings', 'after', 'food', ',', 'clothe', 'and', 'shelter', '.', 'It', 'is', 'able', 'to', 'provide', 'solutions', 'to', 'all', 'problems', ';', 'it', 'promotes', 'good', 'habits', 'and', 'awareness', 'about', 'corruption', ',', 'terrorism', ',', 'and', 'other', 'social', 'issues', 'among', 'us', '.', 'A', 'comprehensive', 'speech', 'on', 'corruption', 'will', 'not', 'only', 'provide', 'you', 'with', 'insights', 'into', 'the', 'issue', 'itself', 'but', 'also', 'serve', 'as', 'a', 'valuable', 'resource', 'to', 'gain', 'an', 'understanding', 'of', 'related', 'speeches', 'and', 'discussions', 'surrounding', 'the', 'topic', 'of', 'corruption', '.', '\\n\\n', 'Education', 'is', 'the', 'most', 'important', 'tool', 'offers', 'inner', 'and', 'outer', 'strength', 'to', 'a', 'person', '.', 'Education', 'is', 'the', 'fundamental', 'rights', 'of', 'everyone', 'and', 'capable', 'of', 'bringing', 'any', 'desired', 'change', 'and', 'upliftment', 'in', 'the', 'human', 'mind', 'and', 'society', '.', '\\n\\n', 'Thank', 'You']\n"
          ]
        }
      ],
      "source": [
        "print(tokens)"
      ]
    },
    {
      "cell_type": "code",
      "execution_count": null,
      "metadata": {
        "id": "hDouo80Jx_Ux"
      },
      "outputs": [],
      "source": [
        "punctuation=punctuation + '\\n'"
      ]
    },
    {
      "cell_type": "code",
      "execution_count": null,
      "metadata": {
        "colab": {
          "base_uri": "https://localhost:8080/",
          "height": 35
        },
        "id": "4E4smue4x_me",
        "outputId": "ac69d655-943c-4d92-de54-2c63450ded26"
      },
      "outputs": [
        {
          "data": {
            "application/vnd.google.colaboratory.intrinsic+json": {
              "type": "string"
            },
            "text/plain": [
              "'!\"#$%&\\'()*+,-./:;<=>?@[\\\\]^_`{|}~\\n'"
            ]
          },
          "execution_count": 9,
          "metadata": {},
          "output_type": "execute_result"
        }
      ],
      "source": [
        "punctuation\n"
      ]
    },
    {
      "cell_type": "markdown",
      "metadata": {
        "id": "4AaldDlSzTMo"
      },
      "source": [
        "**Text cleaning**"
      ]
    },
    {
      "cell_type": "code",
      "execution_count": null,
      "metadata": {
        "colab": {
          "base_uri": "https://localhost:8080/"
        },
        "id": "WkVp-1sJx11t",
        "outputId": "00def2d8-6dba-464c-a3df-2b3dcc033f4b"
      },
      "outputs": [
        {
          "data": {
            "text/plain": [
              "['now',\n",
              " '’s',\n",
              " 'his',\n",
              " 'sometime',\n",
              " 'several',\n",
              " 'onto',\n",
              " 'one',\n",
              " 'after',\n",
              " 'together',\n",
              " '‘re',\n",
              " 'any',\n",
              " 'just',\n",
              " 'made',\n",
              " 'then',\n",
              " 'much',\n",
              " '‘ll',\n",
              " 'down',\n",
              " 'here',\n",
              " 'do',\n",
              " 'forty',\n",
              " 'again',\n",
              " 'due',\n",
              " 'may',\n",
              " 'against',\n",
              " 'twenty',\n",
              " 'under',\n",
              " 'its',\n",
              " 'back',\n",
              " 'i',\n",
              " 'while',\n",
              " 'used',\n",
              " 'in',\n",
              " 'they',\n",
              " 'two',\n",
              " 'how',\n",
              " 'our',\n",
              " 'say',\n",
              " 'still',\n",
              " 'further',\n",
              " 'even',\n",
              " 'her',\n",
              " 'least',\n",
              " 'within',\n",
              " 'quite',\n",
              " '’d',\n",
              " 'six',\n",
              " 'am',\n",
              " 'give',\n",
              " 'else',\n",
              " 'moreover',\n",
              " 'whereafter',\n",
              " 'make',\n",
              " 'others',\n",
              " 'on',\n",
              " 'herein',\n",
              " 'whether',\n",
              " 'up',\n",
              " 'seemed',\n",
              " 'until',\n",
              " 'over',\n",
              " 'which',\n",
              " 'show',\n",
              " 'were',\n",
              " 'see',\n",
              " 'really',\n",
              " 'are',\n",
              " 'last',\n",
              " 'hers',\n",
              " 'elsewhere',\n",
              " 'name',\n",
              " 'through',\n",
              " 'per',\n",
              " 'as',\n",
              " 'part',\n",
              " \"'ll\",\n",
              " 'ten',\n",
              " 'nevertheless',\n",
              " 'doing',\n",
              " 'you',\n",
              " 'since',\n",
              " 'own',\n",
              " 'too',\n",
              " 'namely',\n",
              " 'might',\n",
              " 'ever',\n",
              " '’m',\n",
              " 'seem',\n",
              " 'anyhow',\n",
              " 'next',\n",
              " 'himself',\n",
              " 'does',\n",
              " 'whereby',\n",
              " 'is',\n",
              " 'every',\n",
              " 'had',\n",
              " 'already',\n",
              " 'thereafter',\n",
              " 'into',\n",
              " 'must',\n",
              " 'should',\n",
              " 'whereas',\n",
              " 'throughout',\n",
              " 'it',\n",
              " 'whither',\n",
              " 'out',\n",
              " '‘m',\n",
              " 'whole',\n",
              " 'these',\n",
              " 'what',\n",
              " 'sixty',\n",
              " 'somewhere',\n",
              " 'did',\n",
              " 'he',\n",
              " 'fifteen',\n",
              " 'somehow',\n",
              " 'to',\n",
              " 'before',\n",
              " 'there',\n",
              " 'move',\n",
              " 'call',\n",
              " 'between',\n",
              " 'why',\n",
              " 'hereupon',\n",
              " 'often',\n",
              " 'became',\n",
              " 'whom',\n",
              " 'with',\n",
              " 'where',\n",
              " 'n’t',\n",
              " 'otherwise',\n",
              " 'except',\n",
              " 'always',\n",
              " 'than',\n",
              " 'thereby',\n",
              " 'wherever',\n",
              " 'someone',\n",
              " 'the',\n",
              " 'done',\n",
              " 'anywhere',\n",
              " 'a',\n",
              " 'put',\n",
              " 'she',\n",
              " 'get',\n",
              " 'could',\n",
              " 'cannot',\n",
              " 'hereafter',\n",
              " 'whereupon',\n",
              " 'hundred',\n",
              " 'would',\n",
              " 'most',\n",
              " 'towards',\n",
              " 'nothing',\n",
              " '‘ve',\n",
              " 'ca',\n",
              " 'be',\n",
              " 'more',\n",
              " 'such',\n",
              " 'another',\n",
              " '’ve',\n",
              " 'few',\n",
              " 'keep',\n",
              " 'without',\n",
              " 'alone',\n",
              " 'although',\n",
              " 'hereby',\n",
              " 'thence',\n",
              " 'sometimes',\n",
              " 'therefore',\n",
              " 'across',\n",
              " 'or',\n",
              " \"'re\",\n",
              " 'myself',\n",
              " 'besides',\n",
              " 'however',\n",
              " \"'m\",\n",
              " 'because',\n",
              " 'becomes',\n",
              " 'behind',\n",
              " 'can',\n",
              " 'either',\n",
              " 'them',\n",
              " 'among',\n",
              " 'noone',\n",
              " 'never',\n",
              " 'go',\n",
              " 'please',\n",
              " 'around',\n",
              " 'above',\n",
              " 'off',\n",
              " 'nor',\n",
              " 'along',\n",
              " 'below',\n",
              " 'less',\n",
              " 're',\n",
              " 'many',\n",
              " 'who',\n",
              " 'and',\n",
              " 'yet',\n",
              " 'none',\n",
              " 'side',\n",
              " 'have',\n",
              " 'if',\n",
              " 'all',\n",
              " 'both',\n",
              " 'whoever',\n",
              " 'three',\n",
              " 'third',\n",
              " 'this',\n",
              " \"'d\",\n",
              " 'latter',\n",
              " 'bottom',\n",
              " 'empty',\n",
              " 'everything',\n",
              " 'upon',\n",
              " 'him',\n",
              " 'nine',\n",
              " 'themselves',\n",
              " 'about',\n",
              " 'whose',\n",
              " 'five',\n",
              " 'thereupon',\n",
              " 'ours',\n",
              " 'us',\n",
              " 'anything',\n",
              " 'so',\n",
              " 'eleven',\n",
              " 'by',\n",
              " 'ourselves',\n",
              " 'seeming',\n",
              " 'therein',\n",
              " 'formerly',\n",
              " 'other',\n",
              " 'from',\n",
              " 'an',\n",
              " 'twelve',\n",
              " 'whatever',\n",
              " 'mostly',\n",
              " 'that',\n",
              " \"'s\",\n",
              " 'yours',\n",
              " 'various',\n",
              " 'whence',\n",
              " 'regarding',\n",
              " 'beyond',\n",
              " 'anyway',\n",
              " 'once',\n",
              " 'been',\n",
              " 'afterwards',\n",
              " 'has',\n",
              " 'only',\n",
              " 'each',\n",
              " 'yourselves',\n",
              " 'take',\n",
              " 'but',\n",
              " 'unless',\n",
              " 'me',\n",
              " 'nobody',\n",
              " 'some',\n",
              " 'herself',\n",
              " 'beforehand',\n",
              " 'seems',\n",
              " 'well',\n",
              " 'n‘t',\n",
              " 'former',\n",
              " 'itself',\n",
              " 'very',\n",
              " '’ll',\n",
              " 'wherein',\n",
              " 'amount',\n",
              " 'neither',\n",
              " 'anyone',\n",
              " 'whenever',\n",
              " 'toward',\n",
              " 'also',\n",
              " 'my',\n",
              " '‘d',\n",
              " 'their',\n",
              " 'meanwhile',\n",
              " 'rather',\n",
              " 'indeed',\n",
              " 'your',\n",
              " 'hence',\n",
              " 'almost',\n",
              " 'serious',\n",
              " 'something',\n",
              " 'perhaps',\n",
              " 'using',\n",
              " 'top',\n",
              " 'full',\n",
              " 'everyone',\n",
              " '‘s',\n",
              " 'when',\n",
              " 'become',\n",
              " 'yourself',\n",
              " 'eight',\n",
              " 'at',\n",
              " 'becoming',\n",
              " 'four',\n",
              " 'front',\n",
              " 'not',\n",
              " 'will',\n",
              " 'we',\n",
              " 'no',\n",
              " 'latterly',\n",
              " 'of',\n",
              " \"'ve\",\n",
              " 'fifty',\n",
              " 'mine',\n",
              " '’re',\n",
              " 'being',\n",
              " 'enough',\n",
              " 'first',\n",
              " 'nowhere',\n",
              " 'though',\n",
              " 'thus',\n",
              " 'everywhere',\n",
              " 'during',\n",
              " 'same',\n",
              " 'beside',\n",
              " 'amongst',\n",
              " 'via',\n",
              " 'was',\n",
              " 'those',\n",
              " \"n't\",\n",
              " 'for',\n",
              " 'thru']"
            ]
          },
          "execution_count": 10,
          "metadata": {},
          "output_type": "execute_result"
        }
      ],
      "source": [
        "word_freq = {}\n",
        "stop_word = list(STOP_WORDS)\n",
        "stop_word"
      ]
    },
    {
      "cell_type": "code",
      "execution_count": null,
      "metadata": {
        "id": "RVCfAy5I7NHC"
      },
      "outputs": [],
      "source": [
        "for word in doc:\n",
        "  if word.text.lower() not in stop_word:\n",
        "    if word.text.lower() not in punctuation:\n",
        "      if word.text not in word_freq.keys():\n",
        "        word_freq[word.text]=1\n",
        "      else:\n",
        "        word_freq[word.text]+=1"
      ]
    },
    {
      "cell_type": "code",
      "execution_count": null,
      "metadata": {
        "colab": {
          "base_uri": "https://localhost:8080/"
        },
        "id": "CcLFqgPR8FtK",
        "outputId": "9ac4006f-96f6-42af-b040-504438dc53a8"
      },
      "outputs": [
        {
          "name": "stdout",
          "output_type": "stream",
          "text": [
            "{'like': 3, 'good': 8, 'morning': 1, 'respected': 1, 'teachers': 1, 'parents': 1, 'dear': 1, 'friends': 1, 'speech': 2, 'importance': 1, 'education': 7, 'know': 1, 'Education': 3, 'plays': 1, 'great': 1, 'role': 1, 'life': 8, '\\n\\n': 6, 'Getting': 1, 'proper': 1, 'necessary': 2, 'success': 2, 'happy': 1, 'food': 2, 'healthy': 1, 'body': 2, 'important': 2, 'live': 1, 'luxurious': 1, 'better': 2, 'develops': 1, 'personality': 1, 'people': 2, 'provides': 2, 'physical': 2, 'mental': 2, 'standard': 1, 'transforms': 1, 'living': 1, 'status': 2, 'promotes': 2, 'feeling': 1, 'social': 3, 'providing': 1, 'Good': 1, 'constructive': 1, 'nature': 1, 'constructs': 1, 'future': 1, 'forever': 1, 'helps': 2, 'person': 3, 'improve': 1, 'mind': 2, 'spirit': 1, 'lots': 1, 'confidence': 1, 'giving': 1, 'bulk': 1, 'knowledge': 2, 'field': 1, 'single': 1, 'vital': 1, 'way': 1, 'personal': 2, 'growth': 1, 'grow': 1, 'develop': 1, 'educated': 1, 'means': 2, 'earn': 1, 'certificates': 1, 'salary': 1, 'recognized': 1, 'reputed': 1, 'organisation': 1, 'companies': 1, 'institutions': 1, 'determine': 1, 'bad': 1, 'persons': 1, 'related': 2, 'purpose': 1, 'getting': 1, 'citizen': 1, 'successful': 1, 'professional': 1, 'incomplete': 1, 'makes': 1, 'right': 1, 'thinker': 1, 'correct': 1, 'decision': 1, 'maker': 1, 'competitive': 1, 'world': 1, 'necessity': 1, 'human': 2, 'beings': 1, 'clothe': 1, 'shelter': 1, 'able': 1, 'provide': 2, 'solutions': 1, 'problems': 1, 'habits': 1, 'awareness': 1, 'corruption': 3, 'terrorism': 1, 'issues': 1, 'comprehensive': 1, 'insights': 1, 'issue': 1, 'serve': 1, 'valuable': 1, 'resource': 1, 'gain': 1, 'understanding': 1, 'speeches': 1, 'discussions': 1, 'surrounding': 1, 'topic': 1, 'tool': 1, 'offers': 1, 'inner': 1, 'outer': 1, 'strength': 1, 'fundamental': 1, 'rights': 1, 'capable': 1, 'bringing': 1, 'desired': 1, 'change': 1, 'upliftment': 1, 'society': 1, 'Thank': 1}\n"
          ]
        }
      ],
      "source": [
        "print(word_freq)"
      ]
    },
    {
      "cell_type": "code",
      "execution_count": null,
      "metadata": {
        "id": "qd8zmP5MDUlZ"
      },
      "outputs": [],
      "source": [
        "max_freq=max(word_freq.values())"
      ]
    },
    {
      "cell_type": "code",
      "execution_count": null,
      "metadata": {
        "id": "38kH3aWDDmET"
      },
      "outputs": [],
      "source": [
        "for word in word_freq.keys():\n",
        "  word_freq[word]=word_freq[word]/max_freq"
      ]
    },
    {
      "cell_type": "code",
      "execution_count": null,
      "metadata": {
        "colab": {
          "base_uri": "https://localhost:8080/"
        },
        "id": "F606VYM-GARz",
        "outputId": "1727f5d2-cbde-449f-846c-d0c71495d1fd"
      },
      "outputs": [
        {
          "name": "stdout",
          "output_type": "stream",
          "text": [
            "{'like': 0.375, 'good': 1.0, 'morning': 0.125, 'respected': 0.125, 'teachers': 0.125, 'parents': 0.125, 'dear': 0.125, 'friends': 0.125, 'speech': 0.25, 'importance': 0.125, 'education': 0.875, 'know': 0.125, 'Education': 0.375, 'plays': 0.125, 'great': 0.125, 'role': 0.125, 'life': 1.0, '\\n\\n': 0.75, 'Getting': 0.125, 'proper': 0.125, 'necessary': 0.25, 'success': 0.25, 'happy': 0.125, 'food': 0.25, 'healthy': 0.125, 'body': 0.25, 'important': 0.25, 'live': 0.125, 'luxurious': 0.125, 'better': 0.25, 'develops': 0.125, 'personality': 0.125, 'people': 0.25, 'provides': 0.25, 'physical': 0.25, 'mental': 0.25, 'standard': 0.125, 'transforms': 0.125, 'living': 0.125, 'status': 0.25, 'promotes': 0.25, 'feeling': 0.125, 'social': 0.375, 'providing': 0.125, 'Good': 0.125, 'constructive': 0.125, 'nature': 0.125, 'constructs': 0.125, 'future': 0.125, 'forever': 0.125, 'helps': 0.25, 'person': 0.375, 'improve': 0.125, 'mind': 0.25, 'spirit': 0.125, 'lots': 0.125, 'confidence': 0.125, 'giving': 0.125, 'bulk': 0.125, 'knowledge': 0.25, 'field': 0.125, 'single': 0.125, 'vital': 0.125, 'way': 0.125, 'personal': 0.25, 'growth': 0.125, 'grow': 0.125, 'develop': 0.125, 'educated': 0.125, 'means': 0.25, 'earn': 0.125, 'certificates': 0.125, 'salary': 0.125, 'recognized': 0.125, 'reputed': 0.125, 'organisation': 0.125, 'companies': 0.125, 'institutions': 0.125, 'determine': 0.125, 'bad': 0.125, 'persons': 0.125, 'related': 0.25, 'purpose': 0.125, 'getting': 0.125, 'citizen': 0.125, 'successful': 0.125, 'professional': 0.125, 'incomplete': 0.125, 'makes': 0.125, 'right': 0.125, 'thinker': 0.125, 'correct': 0.125, 'decision': 0.125, 'maker': 0.125, 'competitive': 0.125, 'world': 0.125, 'necessity': 0.125, 'human': 0.25, 'beings': 0.125, 'clothe': 0.125, 'shelter': 0.125, 'able': 0.125, 'provide': 0.25, 'solutions': 0.125, 'problems': 0.125, 'habits': 0.125, 'awareness': 0.125, 'corruption': 0.375, 'terrorism': 0.125, 'issues': 0.125, 'comprehensive': 0.125, 'insights': 0.125, 'issue': 0.125, 'serve': 0.125, 'valuable': 0.125, 'resource': 0.125, 'gain': 0.125, 'understanding': 0.125, 'speeches': 0.125, 'discussions': 0.125, 'surrounding': 0.125, 'topic': 0.125, 'tool': 0.125, 'offers': 0.125, 'inner': 0.125, 'outer': 0.125, 'strength': 0.125, 'fundamental': 0.125, 'rights': 0.125, 'capable': 0.125, 'bringing': 0.125, 'desired': 0.125, 'change': 0.125, 'upliftment': 0.125, 'society': 0.125, 'Thank': 0.125}\n"
          ]
        }
      ],
      "source": [
        "print(word_freq)"
      ]
    },
    {
      "cell_type": "markdown",
      "metadata": {
        "id": "lEKVio5SYW50"
      },
      "source": [
        "**Sentence Tokenization**\n"
      ]
    },
    {
      "cell_type": "code",
      "execution_count": null,
      "metadata": {
        "id": "TUbAFq_mGEih"
      },
      "outputs": [],
      "source": [
        "sent_token=[sent for sent in doc.sents]"
      ]
    },
    {
      "cell_type": "code",
      "execution_count": null,
      "metadata": {
        "id": "_UepDUGSZ0S3"
      },
      "outputs": [],
      "source": [
        "sent_score={}"
      ]
    },
    {
      "cell_type": "code",
      "execution_count": null,
      "metadata": {
        "id": "gDCz3TS_Z4BB"
      },
      "outputs": [],
      "source": [
        "for sent in sent_token:\n",
        "  for word in sent:\n",
        "    if word.text.lower() in word_freq.keys():\n",
        "      if sent not in sent_score.keys():\n",
        "        sent_score[sent]= word_freq[word.text.lower()]\n",
        "      else:\n",
        "       sent_score[sent] += word_freq[word.text.lower()]"
      ]
    },
    {
      "cell_type": "code",
      "execution_count": null,
      "metadata": {
        "colab": {
          "base_uri": "https://localhost:8080/"
        },
        "id": "m4T1da1daYjI",
        "outputId": "61b2a9d1-ef65-4b55-fcf2-0e2668878cd5"
      },
      "outputs": [
        {
          "name": "stdout",
          "output_type": "stream",
          "text": [
            "{First of all I would like to say good morning to the respected teachers, parents and my dear friends.: 2.125, I would like to speech on the importance of education which is must to know by all of us.: 1.75, Education plays a great role in the life of everyone all through the life.\n",
            "\n",
            ": 4.0, Getting proper education is very necessary to get success and happy life just like food is necessary for healthy body.: 4.0, It is very important to live luxurious and better life.: 1.75, It develops personality of the people, provides physical and mental standard and transforms people’s living status.\n",
            "\n",
            ": 2.875, It promotes the feeling of physical, mental and social well being by providing better life.: 2.625, Good education is constructive in nature which constructs our future forever.: 2.5, It helps a person to improve his/her status of mind, body and spirit.: 1.625, It provides us lots of confidence by giving us bulk of knowledge in many field.: 1.125, It is a single and vital way to the success as well as personal growth.\n",
            "\n",
            ": 1.75, The more knowledge we get, we grow and develop more in the life.: 1.5, Being well educated never only means to earn certificates and good salary from the recognized and reputed organisation companies or institutions however it also means to be a good and social person in the life.: 5.375, It helps us to determine whether something is good or bad for us and other persons related to us.\n",
            "\n",
            ": 2.625, The first purpose of getting good education is being good citizen and then being successful in personal and professional life.: 4.75, We are incomplete without a good education because education makes us right thinker and correct decision maker.: 3.625, In such a competitive world, education has become a necessity for human beings after food, clothe and shelter.: 2.125, It is able to provide solutions to all problems; it promotes good habits and awareness about corruption, terrorism, and other social issues among us.: 3.125, A comprehensive speech on corruption will not only provide you with insights into the issue itself but also serve as a valuable resource to gain an understanding of related speeches and discussions surrounding the topic of corruption.\n",
            "\n",
            ": 3.75, Education is the most important tool offers inner and outer strength to a person.: 2.125, Education is the fundamental rights of everyone and capable of bringing any desired change and upliftment in the human mind and society.\n",
            "\n",
            ": 3.125}\n"
          ]
        }
      ],
      "source": [
        "print(sent_score)"
      ]
    },
    {
      "cell_type": "markdown",
      "metadata": {
        "id": "p_5FqLk4bDvJ"
      },
      "source": [
        "**Select 30% of sentence with mazximum score**"
      ]
    },
    {
      "cell_type": "code",
      "execution_count": null,
      "metadata": {
        "id": "M6DMv-uXa6bT"
      },
      "outputs": [],
      "source": [
        "from heapq import nlargest"
      ]
    },
    {
      "cell_type": "code",
      "execution_count": null,
      "metadata": {
        "colab": {
          "background_save": true,
          "base_uri": "https://localhost:8080/"
        },
        "id": "sfV35AiUcRuQ",
        "outputId": "1002cc43-acbc-45ba-e8f1-032c8cc06839"
      },
      "outputs": [
        {
          "data": {
            "text/plain": [
              "6.3"
            ]
          },
          "execution_count": 22,
          "metadata": {},
          "output_type": "execute_result"
        }
      ],
      "source": [
        "len(sent_score)*0.3\n"
      ]
    },
    {
      "cell_type": "markdown",
      "metadata": {
        "id": "4gGD05DPcZRc"
      },
      "source": [
        "**Getting Summary**"
      ]
    },
    {
      "cell_type": "code",
      "execution_count": null,
      "metadata": {
        "id": "itQRQ6B0cfxB"
      },
      "outputs": [],
      "source": [
        "summary=nlargest(n=7,iterable=sent_score,key=sent_score.get)"
      ]
    },
    {
      "cell_type": "code",
      "execution_count": null,
      "metadata": {
        "id": "32od_LiYcVo8"
      },
      "outputs": [],
      "source": [
        "s=' '.join([word.text for word in summary ])"
      ]
    },
    {
      "cell_type": "code",
      "execution_count": null,
      "metadata": {
        "colab": {
          "base_uri": "https://localhost:8080/"
        },
        "id": "VmwXhzk9c9A2",
        "outputId": "5883d020-c48e-47a1-f662-4d80b81b2bfd"
      },
      "outputs": [
        {
          "name": "stdout",
          "output_type": "stream",
          "text": [
            "Being well educated never only means to earn certificates and good salary from the recognized and reputed organisation companies or institutions however it also means to be a good and social person in the life. The first purpose of getting good education is being good citizen and then being successful in personal and professional life. Education plays a great role in the life of everyone all through the life.\n",
            "\n",
            " Getting proper education is very necessary to get success and happy life just like food is necessary for healthy body. A comprehensive speech on corruption will not only provide you with insights into the issue itself but also serve as a valuable resource to gain an understanding of related speeches and discussions surrounding the topic of corruption.\n",
            "\n",
            " We are incomplete without a good education because education makes us right thinker and correct decision maker. It is able to provide solutions to all problems; it promotes good habits and awareness about corruption, terrorism, and other social issues among us.\n"
          ]
        }
      ],
      "source": [
        "print(s)"
      ]
    },
    {
      "cell_type": "code",
      "execution_count": null,
      "metadata": {
        "id": "wHMF5ezPdESh"
      },
      "outputs": [],
      "source": []
    }
  ],
  "metadata": {
    "colab": {
      "provenance": []
    },
    "kernelspec": {
      "display_name": "Python 3",
      "name": "python3"
    },
    "language_info": {
      "name": "python"
    }
  },
  "nbformat": 4,
  "nbformat_minor": 0
}